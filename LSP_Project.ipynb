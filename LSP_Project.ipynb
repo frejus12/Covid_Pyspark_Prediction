{
 "cells": [
  {
   "cell_type": "markdown",
   "metadata": {},
   "source": [
    "# Modèle de régression logistique"
   ]
  },
  {
   "cell_type": "markdown",
   "metadata": {},
   "source": [
    "## Import des librairies"
   ]
  },
  {
   "cell_type": "code",
   "execution_count": 1,
   "metadata": {},
   "outputs": [],
   "source": [
    "from pyspark.sql import SparkSession\n",
    "spark= SparkSession.builder.appName('LSP_Project').getOrCreate()\n",
    "import seaborn as sb\n",
    "import matplotlib.pyplot as plt\n",
    "from datetime import datetime\n",
    "from sklearn.ensemble import RandomForestRegressor\n",
    "from sklearn.datasets import make_regression\n",
    "from sklearn.model_selection import train_test_split"
   ]
  },
  {
   "cell_type": "markdown",
   "metadata": {},
   "source": [
    "## Chargement des données"
   ]
  },
  {
   "cell_type": "code",
   "execution_count": 2,
   "metadata": {},
   "outputs": [],
   "source": [
    "dataset=spark.read.csv(\"hdfs://localhost:9000/Dataset/us_county.csv\",inferSchema=True,header=True)"
   ]
  },
  {
   "cell_type": "code",
   "execution_count": 3,
   "metadata": {},
   "outputs": [],
   "source": [
    "dataset_1=spark.read.csv(\"hdfs://localhost:9000/Dataset/covid_us_county.csv\",inferSchema=True,header=True)"
   ]
  },
  {
   "cell_type": "code",
   "execution_count": 4,
   "metadata": {},
   "outputs": [
    {
     "data": {
      "text/plain": [
       "DataFrame[fips: int, county: string, state: string, state_code: string, male: int, female: int, median_age: double, population: int, female_percentage: double, lat: double, long: double]"
      ]
     },
     "execution_count": 4,
     "metadata": {},
     "output_type": "execute_result"
    }
   ],
   "source": [
    "dataset"
   ]
  },
  {
   "cell_type": "markdown",
   "metadata": {},
   "source": [
    "## Quelques observations sur les données"
   ]
  },
  {
   "cell_type": "code",
   "execution_count": 5,
   "metadata": {},
   "outputs": [
    {
     "name": "stdout",
     "output_type": "stream",
     "text": [
      "+----+----------------+-------+----------+------+------+----------+----------+------------------+------------------+------------------+\n",
      "|fips|          county|  state|state_code|  male|female|median_age|population| female_percentage|               lat|              long|\n",
      "+----+----------------+-------+----------+------+------+----------+----------+------------------+------------------+------------------+\n",
      "|1001|  Autauga County|Alabama|        AL| 26874| 28326|      37.8|     55200|51.315217391304344| 32.53492293292812|-86.64273013739468|\n",
      "|1003|  Baldwin County|Alabama|        AL|101188|106919|      42.8|    208107|  51.3769359031652| 30.72747876693927|-87.72256353282204|\n",
      "|1005|  Barbour County|Alabama|        AL| 13697| 12085|      39.9|     25782|46.873787914048556|31.869581438362314|-85.39320978902569|\n",
      "|1007|     Bibb County|Alabama|        AL| 12152| 10375|      39.9|     22527|46.055844098193276|32.998628228925845|-87.12647507182314|\n",
      "|1009|   Blount County|Alabama|        AL| 28434| 29211|      40.8|     57645|50.673952641165755| 33.98086883066284|-86.56738039931867|\n",
      "|1011|  Bullock County|Alabama|        AL|  5663|  4689|      39.6|     10352| 45.29559505409583| 32.10052546439408|-85.71567933028645|\n",
      "|1013|   Butler County|Alabama|        AL|  9368| 10657|      40.7|     20025| 53.21847690387016|31.752429155671948|-86.68027562242744|\n",
      "|1015|  Calhoun County|Alabama|        AL| 55315| 59783|      39.7|    115098| 51.94095466472049|33.771415664670144|-85.82603921906548|\n",
      "|1017| Chambers County|Alabama|        AL| 16257| 17569|      43.0|     33826|51.939336604978415| 32.91434535110719|-85.39203021569158|\n",
      "|1019| Cherokee County|Alabama|        AL| 12820| 13033|      45.9|     25853| 50.41194445518895| 34.17590465311609|-85.60380095916831|\n",
      "|1021|  Chilton County|Alabama|        AL| 21672| 22258|      38.6|     43930| 50.66697017983155| 32.84786730790755|-86.71879022444824|\n",
      "|1023|  Choctaw County|Alabama|        AL|  6253|  6822|      46.1|     13075|52.175908221797314|32.019771720975655|-88.26317980997915|\n",
      "|1025|   Clarke County|Alabama|        AL| 11539| 12848|      42.3|     24387| 52.68380694632386| 31.67667781209924|-87.83080861554338|\n",
      "|1027|     Clay County|Alabama|        AL|  6464|  6914|      43.7|     13378| 51.68186574973838| 33.26902359843214| -85.8605790173855|\n",
      "|1029| Cleburne County|Alabama|        AL|  7281|  7657|      42.5|     14938| 51.25853527915384| 33.67451320426218|-85.51880933254934|\n",
      "|1031|   Coffee County|Alabama|        AL| 25314| 25974|      39.3|     51288|50.643425362657936|31.402649421681172|-85.98815267828464|\n",
      "|1033|  Colbert County|Alabama|        AL| 26075| 28420|      42.7|     54495| 52.15157353885678|34.700470938378004|-87.80492780624994|\n",
      "|1035|  Conecuh County|Alabama|        AL|  6037|  6477|      44.8|     12514|  51.7580310052741| 31.42923693025014|-86.99366150725562|\n",
      "|1037|    Coosa County|Alabama|        AL|  5501|  5354|      46.9|     10855| 49.32289267618609| 32.93624304249333|-86.24766160001144|\n",
      "|1039|Covington County|Alabama|        AL| 18172| 19179|      43.9|     37351|51.348022810634255|31.248491453552955|-86.45126684432357|\n",
      "+----+----------------+-------+----------+------+------+----------+----------+------------------+------------------+------------------+\n",
      "only showing top 20 rows\n",
      "\n"
     ]
    }
   ],
   "source": [
    "dataset.show()"
   ]
  },
  {
   "cell_type": "code",
   "execution_count": 6,
   "metadata": {},
   "outputs": [
    {
     "name": "stdout",
     "output_type": "stream",
     "text": [
      "+----+-------+-------+-----------+------------+----------+-----+----------+------+\n",
      "|fips| county|  state|        lat|        long|      date|cases|state_code|deaths|\n",
      "+----+-------+-------+-----------+------------+----------+-----+----------+------+\n",
      "|1001|Autauga|Alabama|32.53952745|-86.64408227|2020-01-22|    0|        AL|     0|\n",
      "|1001|Autauga|Alabama|32.53952745|-86.64408227|2020-01-23|    0|        AL|     0|\n",
      "|1001|Autauga|Alabama|32.53952745|-86.64408227|2020-01-24|    0|        AL|     0|\n",
      "|1001|Autauga|Alabama|32.53952745|-86.64408227|2020-01-25|    0|        AL|     0|\n",
      "|1001|Autauga|Alabama|32.53952745|-86.64408227|2020-01-26|    0|        AL|     0|\n",
      "|1001|Autauga|Alabama|32.53952745|-86.64408227|2020-01-27|    0|        AL|     0|\n",
      "|1001|Autauga|Alabama|32.53952745|-86.64408227|2020-01-28|    0|        AL|     0|\n",
      "|1001|Autauga|Alabama|32.53952745|-86.64408227|2020-01-29|    0|        AL|     0|\n",
      "|1001|Autauga|Alabama|32.53952745|-86.64408227|2020-01-30|    0|        AL|     0|\n",
      "|1001|Autauga|Alabama|32.53952745|-86.64408227|2020-01-31|    0|        AL|     0|\n",
      "|1001|Autauga|Alabama|32.53952745|-86.64408227|2020-02-01|    0|        AL|     0|\n",
      "|1001|Autauga|Alabama|32.53952745|-86.64408227|2020-02-02|    0|        AL|     0|\n",
      "|1001|Autauga|Alabama|32.53952745|-86.64408227|2020-02-03|    0|        AL|     0|\n",
      "|1001|Autauga|Alabama|32.53952745|-86.64408227|2020-02-04|    0|        AL|     0|\n",
      "|1001|Autauga|Alabama|32.53952745|-86.64408227|2020-02-05|    0|        AL|     0|\n",
      "|1001|Autauga|Alabama|32.53952745|-86.64408227|2020-02-06|    0|        AL|     0|\n",
      "|1001|Autauga|Alabama|32.53952745|-86.64408227|2020-02-07|    0|        AL|     0|\n",
      "|1001|Autauga|Alabama|32.53952745|-86.64408227|2020-02-08|    0|        AL|     0|\n",
      "|1001|Autauga|Alabama|32.53952745|-86.64408227|2020-02-09|    0|        AL|     0|\n",
      "|1001|Autauga|Alabama|32.53952745|-86.64408227|2020-02-10|    0|        AL|     0|\n",
      "+----+-------+-------+-----------+------------+----------+-----+----------+------+\n",
      "only showing top 20 rows\n",
      "\n"
     ]
    }
   ],
   "source": [
    "dataset_1.show()"
   ]
  },
  {
   "cell_type": "code",
   "execution_count": 7,
   "metadata": {},
   "outputs": [
    {
     "data": {
      "text/plain": [
       "DataFrame[summary: string, fips: string, county: string, state: string, state_code: string, male: string, female: string, median_age: string, population: string, female_percentage: string, lat: string, long: string]"
      ]
     },
     "execution_count": 7,
     "metadata": {},
     "output_type": "execute_result"
    }
   ],
   "source": [
    "dataset.summary()"
   ]
  },
  {
   "cell_type": "code",
   "execution_count": 8,
   "metadata": {},
   "outputs": [
    {
     "data": {
      "text/plain": [
       "pyspark.sql.dataframe.DataFrame"
      ]
     },
     "execution_count": 8,
     "metadata": {},
     "output_type": "execute_result"
    }
   ],
   "source": [
    "type(dataset)"
   ]
  },
  {
   "cell_type": "code",
   "execution_count": 9,
   "metadata": {},
   "outputs": [
    {
     "data": {
      "text/plain": [
       "(3220, 11)"
      ]
     },
     "execution_count": 9,
     "metadata": {},
     "output_type": "execute_result"
    }
   ],
   "source": [
    "import pandas as pd\n",
    "\n",
    "data=dataset.toPandas()\n",
    "data.shape"
   ]
  },
  {
   "cell_type": "code",
   "execution_count": 10,
   "metadata": {},
   "outputs": [
    {
     "data": {
      "text/html": [
       "<div>\n",
       "<style scoped>\n",
       "    .dataframe tbody tr th:only-of-type {\n",
       "        vertical-align: middle;\n",
       "    }\n",
       "\n",
       "    .dataframe tbody tr th {\n",
       "        vertical-align: top;\n",
       "    }\n",
       "\n",
       "    .dataframe thead th {\n",
       "        text-align: right;\n",
       "    }\n",
       "</style>\n",
       "<table border=\"1\" class=\"dataframe\">\n",
       "  <thead>\n",
       "    <tr style=\"text-align: right;\">\n",
       "      <th></th>\n",
       "      <th>fips</th>\n",
       "      <th>county</th>\n",
       "      <th>state</th>\n",
       "      <th>state_code</th>\n",
       "      <th>male</th>\n",
       "      <th>female</th>\n",
       "      <th>median_age</th>\n",
       "      <th>population</th>\n",
       "      <th>female_percentage</th>\n",
       "      <th>lat</th>\n",
       "      <th>long</th>\n",
       "    </tr>\n",
       "  </thead>\n",
       "  <tbody>\n",
       "    <tr>\n",
       "      <th>0</th>\n",
       "      <td>1001</td>\n",
       "      <td>Autauga County</td>\n",
       "      <td>Alabama</td>\n",
       "      <td>AL</td>\n",
       "      <td>26874</td>\n",
       "      <td>28326</td>\n",
       "      <td>37.8</td>\n",
       "      <td>55200</td>\n",
       "      <td>51.315217</td>\n",
       "      <td>32.534923</td>\n",
       "      <td>-86.642730</td>\n",
       "    </tr>\n",
       "    <tr>\n",
       "      <th>1</th>\n",
       "      <td>1003</td>\n",
       "      <td>Baldwin County</td>\n",
       "      <td>Alabama</td>\n",
       "      <td>AL</td>\n",
       "      <td>101188</td>\n",
       "      <td>106919</td>\n",
       "      <td>42.8</td>\n",
       "      <td>208107</td>\n",
       "      <td>51.376936</td>\n",
       "      <td>30.727479</td>\n",
       "      <td>-87.722564</td>\n",
       "    </tr>\n",
       "    <tr>\n",
       "      <th>2</th>\n",
       "      <td>1005</td>\n",
       "      <td>Barbour County</td>\n",
       "      <td>Alabama</td>\n",
       "      <td>AL</td>\n",
       "      <td>13697</td>\n",
       "      <td>12085</td>\n",
       "      <td>39.9</td>\n",
       "      <td>25782</td>\n",
       "      <td>46.873788</td>\n",
       "      <td>31.869581</td>\n",
       "      <td>-85.393210</td>\n",
       "    </tr>\n",
       "    <tr>\n",
       "      <th>3</th>\n",
       "      <td>1007</td>\n",
       "      <td>Bibb County</td>\n",
       "      <td>Alabama</td>\n",
       "      <td>AL</td>\n",
       "      <td>12152</td>\n",
       "      <td>10375</td>\n",
       "      <td>39.9</td>\n",
       "      <td>22527</td>\n",
       "      <td>46.055844</td>\n",
       "      <td>32.998628</td>\n",
       "      <td>-87.126475</td>\n",
       "    </tr>\n",
       "    <tr>\n",
       "      <th>4</th>\n",
       "      <td>1009</td>\n",
       "      <td>Blount County</td>\n",
       "      <td>Alabama</td>\n",
       "      <td>AL</td>\n",
       "      <td>28434</td>\n",
       "      <td>29211</td>\n",
       "      <td>40.8</td>\n",
       "      <td>57645</td>\n",
       "      <td>50.673953</td>\n",
       "      <td>33.980869</td>\n",
       "      <td>-86.567380</td>\n",
       "    </tr>\n",
       "    <tr>\n",
       "      <th>...</th>\n",
       "      <td>...</td>\n",
       "      <td>...</td>\n",
       "      <td>...</td>\n",
       "      <td>...</td>\n",
       "      <td>...</td>\n",
       "      <td>...</td>\n",
       "      <td>...</td>\n",
       "      <td>...</td>\n",
       "      <td>...</td>\n",
       "      <td>...</td>\n",
       "      <td>...</td>\n",
       "    </tr>\n",
       "    <tr>\n",
       "      <th>3215</th>\n",
       "      <td>72145</td>\n",
       "      <td>Vega Baja Municipio</td>\n",
       "      <td>Puerto Rico</td>\n",
       "      <td>NA</td>\n",
       "      <td>25580</td>\n",
       "      <td>27791</td>\n",
       "      <td>40.7</td>\n",
       "      <td>53371</td>\n",
       "      <td>52.071350</td>\n",
       "      <td>18.428461</td>\n",
       "      <td>-66.397926</td>\n",
       "    </tr>\n",
       "    <tr>\n",
       "      <th>3216</th>\n",
       "      <td>72147</td>\n",
       "      <td>Vieques Municipio</td>\n",
       "      <td>Puerto Rico</td>\n",
       "      <td>NA</td>\n",
       "      <td>4332</td>\n",
       "      <td>4439</td>\n",
       "      <td>43.6</td>\n",
       "      <td>8771</td>\n",
       "      <td>50.609965</td>\n",
       "      <td>18.122662</td>\n",
       "      <td>-65.439095</td>\n",
       "    </tr>\n",
       "    <tr>\n",
       "      <th>3217</th>\n",
       "      <td>72149</td>\n",
       "      <td>Villalba Municipio</td>\n",
       "      <td>Puerto Rico</td>\n",
       "      <td>NA</td>\n",
       "      <td>11169</td>\n",
       "      <td>11824</td>\n",
       "      <td>38.8</td>\n",
       "      <td>22993</td>\n",
       "      <td>51.424347</td>\n",
       "      <td>18.128155</td>\n",
       "      <td>-66.472816</td>\n",
       "    </tr>\n",
       "    <tr>\n",
       "      <th>3218</th>\n",
       "      <td>72151</td>\n",
       "      <td>Yabucoa Municipio</td>\n",
       "      <td>Puerto Rico</td>\n",
       "      <td>NA</td>\n",
       "      <td>16541</td>\n",
       "      <td>17608</td>\n",
       "      <td>42.5</td>\n",
       "      <td>34149</td>\n",
       "      <td>51.562271</td>\n",
       "      <td>18.070468</td>\n",
       "      <td>-65.896311</td>\n",
       "    </tr>\n",
       "    <tr>\n",
       "      <th>3219</th>\n",
       "      <td>72153</td>\n",
       "      <td>Yauco Municipio</td>\n",
       "      <td>Puerto Rico</td>\n",
       "      <td>NA</td>\n",
       "      <td>17475</td>\n",
       "      <td>18964</td>\n",
       "      <td>43.0</td>\n",
       "      <td>36439</td>\n",
       "      <td>52.043141</td>\n",
       "      <td>18.079728</td>\n",
       "      <td>-66.858276</td>\n",
       "    </tr>\n",
       "  </tbody>\n",
       "</table>\n",
       "<p>3220 rows × 11 columns</p>\n",
       "</div>"
      ],
      "text/plain": [
       "       fips               county        state state_code    male  female  \\\n",
       "0      1001       Autauga County      Alabama         AL   26874   28326   \n",
       "1      1003       Baldwin County      Alabama         AL  101188  106919   \n",
       "2      1005       Barbour County      Alabama         AL   13697   12085   \n",
       "3      1007          Bibb County      Alabama         AL   12152   10375   \n",
       "4      1009        Blount County      Alabama         AL   28434   29211   \n",
       "...     ...                  ...          ...        ...     ...     ...   \n",
       "3215  72145  Vega Baja Municipio  Puerto Rico         NA   25580   27791   \n",
       "3216  72147    Vieques Municipio  Puerto Rico         NA    4332    4439   \n",
       "3217  72149   Villalba Municipio  Puerto Rico         NA   11169   11824   \n",
       "3218  72151    Yabucoa Municipio  Puerto Rico         NA   16541   17608   \n",
       "3219  72153      Yauco Municipio  Puerto Rico         NA   17475   18964   \n",
       "\n",
       "      median_age  population  female_percentage        lat       long  \n",
       "0           37.8       55200          51.315217  32.534923 -86.642730  \n",
       "1           42.8      208107          51.376936  30.727479 -87.722564  \n",
       "2           39.9       25782          46.873788  31.869581 -85.393210  \n",
       "3           39.9       22527          46.055844  32.998628 -87.126475  \n",
       "4           40.8       57645          50.673953  33.980869 -86.567380  \n",
       "...          ...         ...                ...        ...        ...  \n",
       "3215        40.7       53371          52.071350  18.428461 -66.397926  \n",
       "3216        43.6        8771          50.609965  18.122662 -65.439095  \n",
       "3217        38.8       22993          51.424347  18.128155 -66.472816  \n",
       "3218        42.5       34149          51.562271  18.070468 -65.896311  \n",
       "3219        43.0       36439          52.043141  18.079728 -66.858276  \n",
       "\n",
       "[3220 rows x 11 columns]"
      ]
     },
     "execution_count": 10,
     "metadata": {},
     "output_type": "execute_result"
    }
   ],
   "source": [
    "data"
   ]
  },
  {
   "cell_type": "code",
   "execution_count": 11,
   "metadata": {},
   "outputs": [
    {
     "data": {
      "text/html": [
       "<div>\n",
       "<style scoped>\n",
       "    .dataframe tbody tr th:only-of-type {\n",
       "        vertical-align: middle;\n",
       "    }\n",
       "\n",
       "    .dataframe tbody tr th {\n",
       "        vertical-align: top;\n",
       "    }\n",
       "\n",
       "    .dataframe thead th {\n",
       "        text-align: right;\n",
       "    }\n",
       "</style>\n",
       "<table border=\"1\" class=\"dataframe\">\n",
       "  <thead>\n",
       "    <tr style=\"text-align: right;\">\n",
       "      <th></th>\n",
       "      <th>fips</th>\n",
       "      <th>county</th>\n",
       "      <th>state</th>\n",
       "      <th>state_code</th>\n",
       "      <th>male</th>\n",
       "      <th>female</th>\n",
       "      <th>median_age</th>\n",
       "      <th>population</th>\n",
       "      <th>female_percentage</th>\n",
       "      <th>lat</th>\n",
       "      <th>long</th>\n",
       "    </tr>\n",
       "  </thead>\n",
       "  <tbody>\n",
       "    <tr>\n",
       "      <th>count</th>\n",
       "      <td>3220</td>\n",
       "      <td>3220</td>\n",
       "      <td>3220</td>\n",
       "      <td>3220</td>\n",
       "      <td>3220</td>\n",
       "      <td>3220</td>\n",
       "      <td>3220</td>\n",
       "      <td>3220</td>\n",
       "      <td>3220</td>\n",
       "      <td>3220</td>\n",
       "      <td>3220</td>\n",
       "    </tr>\n",
       "    <tr>\n",
       "      <th>unique</th>\n",
       "      <td>1</td>\n",
       "      <td>1</td>\n",
       "      <td>1</td>\n",
       "      <td>1</td>\n",
       "      <td>1</td>\n",
       "      <td>1</td>\n",
       "      <td>1</td>\n",
       "      <td>1</td>\n",
       "      <td>1</td>\n",
       "      <td>1</td>\n",
       "      <td>1</td>\n",
       "    </tr>\n",
       "    <tr>\n",
       "      <th>top</th>\n",
       "      <td>False</td>\n",
       "      <td>False</td>\n",
       "      <td>False</td>\n",
       "      <td>False</td>\n",
       "      <td>False</td>\n",
       "      <td>False</td>\n",
       "      <td>False</td>\n",
       "      <td>False</td>\n",
       "      <td>False</td>\n",
       "      <td>False</td>\n",
       "      <td>False</td>\n",
       "    </tr>\n",
       "    <tr>\n",
       "      <th>freq</th>\n",
       "      <td>3220</td>\n",
       "      <td>3220</td>\n",
       "      <td>3220</td>\n",
       "      <td>3220</td>\n",
       "      <td>3220</td>\n",
       "      <td>3220</td>\n",
       "      <td>3220</td>\n",
       "      <td>3220</td>\n",
       "      <td>3220</td>\n",
       "      <td>3220</td>\n",
       "      <td>3220</td>\n",
       "    </tr>\n",
       "  </tbody>\n",
       "</table>\n",
       "</div>"
      ],
      "text/plain": [
       "         fips county  state state_code   male female median_age population  \\\n",
       "count    3220   3220   3220       3220   3220   3220       3220       3220   \n",
       "unique      1      1      1          1      1      1          1          1   \n",
       "top     False  False  False      False  False  False      False      False   \n",
       "freq     3220   3220   3220       3220   3220   3220       3220       3220   \n",
       "\n",
       "       female_percentage    lat   long  \n",
       "count               3220   3220   3220  \n",
       "unique                 1      1      1  \n",
       "top                False  False  False  \n",
       "freq                3220   3220   3220  "
      ]
     },
     "execution_count": 11,
     "metadata": {},
     "output_type": "execute_result"
    }
   ],
   "source": [
    "data.isna().describe()"
   ]
  },
  {
   "cell_type": "code",
   "execution_count": 12,
   "metadata": {},
   "outputs": [
    {
     "data": {
      "text/html": [
       "<div>\n",
       "<style scoped>\n",
       "    .dataframe tbody tr th:only-of-type {\n",
       "        vertical-align: middle;\n",
       "    }\n",
       "\n",
       "    .dataframe tbody tr th {\n",
       "        vertical-align: top;\n",
       "    }\n",
       "\n",
       "    .dataframe thead th {\n",
       "        text-align: right;\n",
       "    }\n",
       "</style>\n",
       "<table border=\"1\" class=\"dataframe\">\n",
       "  <thead>\n",
       "    <tr style=\"text-align: right;\">\n",
       "      <th></th>\n",
       "      <th>fips</th>\n",
       "      <th>county</th>\n",
       "      <th>state</th>\n",
       "      <th>state_code</th>\n",
       "      <th>male</th>\n",
       "      <th>female</th>\n",
       "      <th>median_age</th>\n",
       "      <th>population</th>\n",
       "      <th>female_percentage</th>\n",
       "      <th>lat</th>\n",
       "      <th>long</th>\n",
       "    </tr>\n",
       "  </thead>\n",
       "  <tbody>\n",
       "    <tr>\n",
       "      <th>count</th>\n",
       "      <td>3220</td>\n",
       "      <td>3220</td>\n",
       "      <td>3220</td>\n",
       "      <td>3220</td>\n",
       "      <td>3220</td>\n",
       "      <td>3220</td>\n",
       "      <td>3220</td>\n",
       "      <td>3220</td>\n",
       "      <td>3220</td>\n",
       "      <td>3220</td>\n",
       "      <td>3220</td>\n",
       "    </tr>\n",
       "    <tr>\n",
       "      <th>unique</th>\n",
       "      <td>1</td>\n",
       "      <td>1</td>\n",
       "      <td>1</td>\n",
       "      <td>1</td>\n",
       "      <td>1</td>\n",
       "      <td>1</td>\n",
       "      <td>1</td>\n",
       "      <td>1</td>\n",
       "      <td>1</td>\n",
       "      <td>1</td>\n",
       "      <td>1</td>\n",
       "    </tr>\n",
       "    <tr>\n",
       "      <th>top</th>\n",
       "      <td>False</td>\n",
       "      <td>False</td>\n",
       "      <td>False</td>\n",
       "      <td>False</td>\n",
       "      <td>False</td>\n",
       "      <td>False</td>\n",
       "      <td>False</td>\n",
       "      <td>False</td>\n",
       "      <td>False</td>\n",
       "      <td>False</td>\n",
       "      <td>False</td>\n",
       "    </tr>\n",
       "    <tr>\n",
       "      <th>freq</th>\n",
       "      <td>3220</td>\n",
       "      <td>3220</td>\n",
       "      <td>3220</td>\n",
       "      <td>3220</td>\n",
       "      <td>3220</td>\n",
       "      <td>3220</td>\n",
       "      <td>3220</td>\n",
       "      <td>3220</td>\n",
       "      <td>3220</td>\n",
       "      <td>3220</td>\n",
       "      <td>3220</td>\n",
       "    </tr>\n",
       "  </tbody>\n",
       "</table>\n",
       "</div>"
      ],
      "text/plain": [
       "         fips county  state state_code   male female median_age population  \\\n",
       "count    3220   3220   3220       3220   3220   3220       3220       3220   \n",
       "unique      1      1      1          1      1      1          1          1   \n",
       "top     False  False  False      False  False  False      False      False   \n",
       "freq     3220   3220   3220       3220   3220   3220       3220       3220   \n",
       "\n",
       "       female_percentage    lat   long  \n",
       "count               3220   3220   3220  \n",
       "unique                 1      1      1  \n",
       "top                False  False  False  \n",
       "freq                3220   3220   3220  "
      ]
     },
     "execution_count": 12,
     "metadata": {},
     "output_type": "execute_result"
    }
   ],
   "source": [
    "data.isnull().describe()"
   ]
  },
  {
   "cell_type": "code",
   "execution_count": 13,
   "metadata": {},
   "outputs": [
    {
     "data": {
      "text/plain": [
       "Index(['fips', 'county', 'state', 'state_code', 'male', 'female', 'median_age',\n",
       "       'population', 'female_percentage', 'lat', 'long'],\n",
       "      dtype='object')"
      ]
     },
     "execution_count": 13,
     "metadata": {},
     "output_type": "execute_result"
    }
   ],
   "source": [
    "data.columns"
   ]
  },
  {
   "cell_type": "code",
   "execution_count": 14,
   "metadata": {},
   "outputs": [],
   "source": [
    "data_1=dataset_1.toPandas()"
   ]
  },
  {
   "cell_type": "code",
   "execution_count": 15,
   "metadata": {},
   "outputs": [
    {
     "data": {
      "text/plain": [
       "Index(['fips', 'county', 'state', 'lat', 'long', 'date', 'cases', 'state_code',\n",
       "       'deaths'],\n",
       "      dtype='object')"
      ]
     },
     "execution_count": 15,
     "metadata": {},
     "output_type": "execute_result"
    }
   ],
   "source": [
    "data_1.columns"
   ]
  },
  {
   "cell_type": "code",
   "execution_count": 16,
   "metadata": {},
   "outputs": [
    {
     "data": {
      "text/html": [
       "<div>\n",
       "<style scoped>\n",
       "    .dataframe tbody tr th:only-of-type {\n",
       "        vertical-align: middle;\n",
       "    }\n",
       "\n",
       "    .dataframe tbody tr th {\n",
       "        vertical-align: top;\n",
       "    }\n",
       "\n",
       "    .dataframe thead th {\n",
       "        text-align: right;\n",
       "    }\n",
       "</style>\n",
       "<table border=\"1\" class=\"dataframe\">\n",
       "  <thead>\n",
       "    <tr style=\"text-align: right;\">\n",
       "      <th></th>\n",
       "      <th>fips</th>\n",
       "      <th>county</th>\n",
       "      <th>state</th>\n",
       "      <th>lat</th>\n",
       "      <th>long</th>\n",
       "      <th>date</th>\n",
       "      <th>cases</th>\n",
       "      <th>state_code</th>\n",
       "      <th>deaths</th>\n",
       "    </tr>\n",
       "  </thead>\n",
       "  <tbody>\n",
       "    <tr>\n",
       "      <th>0</th>\n",
       "      <td>1001</td>\n",
       "      <td>Autauga</td>\n",
       "      <td>Alabama</td>\n",
       "      <td>32.539527</td>\n",
       "      <td>-86.644082</td>\n",
       "      <td>2020-01-22</td>\n",
       "      <td>0</td>\n",
       "      <td>AL</td>\n",
       "      <td>0</td>\n",
       "    </tr>\n",
       "    <tr>\n",
       "      <th>1</th>\n",
       "      <td>1001</td>\n",
       "      <td>Autauga</td>\n",
       "      <td>Alabama</td>\n",
       "      <td>32.539527</td>\n",
       "      <td>-86.644082</td>\n",
       "      <td>2020-01-23</td>\n",
       "      <td>0</td>\n",
       "      <td>AL</td>\n",
       "      <td>0</td>\n",
       "    </tr>\n",
       "    <tr>\n",
       "      <th>2</th>\n",
       "      <td>1001</td>\n",
       "      <td>Autauga</td>\n",
       "      <td>Alabama</td>\n",
       "      <td>32.539527</td>\n",
       "      <td>-86.644082</td>\n",
       "      <td>2020-01-24</td>\n",
       "      <td>0</td>\n",
       "      <td>AL</td>\n",
       "      <td>0</td>\n",
       "    </tr>\n",
       "    <tr>\n",
       "      <th>3</th>\n",
       "      <td>1001</td>\n",
       "      <td>Autauga</td>\n",
       "      <td>Alabama</td>\n",
       "      <td>32.539527</td>\n",
       "      <td>-86.644082</td>\n",
       "      <td>2020-01-25</td>\n",
       "      <td>0</td>\n",
       "      <td>AL</td>\n",
       "      <td>0</td>\n",
       "    </tr>\n",
       "    <tr>\n",
       "      <th>4</th>\n",
       "      <td>1001</td>\n",
       "      <td>Autauga</td>\n",
       "      <td>Alabama</td>\n",
       "      <td>32.539527</td>\n",
       "      <td>-86.644082</td>\n",
       "      <td>2020-01-26</td>\n",
       "      <td>0</td>\n",
       "      <td>AL</td>\n",
       "      <td>0</td>\n",
       "    </tr>\n",
       "    <tr>\n",
       "      <th>...</th>\n",
       "      <td>...</td>\n",
       "      <td>...</td>\n",
       "      <td>...</td>\n",
       "      <td>...</td>\n",
       "      <td>...</td>\n",
       "      <td>...</td>\n",
       "      <td>...</td>\n",
       "      <td>...</td>\n",
       "      <td>...</td>\n",
       "    </tr>\n",
       "    <tr>\n",
       "      <th>1215755</th>\n",
       "      <td>56045</td>\n",
       "      <td>Weston</td>\n",
       "      <td>Wyoming</td>\n",
       "      <td>43.839612</td>\n",
       "      <td>-104.567488</td>\n",
       "      <td>2021-01-15</td>\n",
       "      <td>602</td>\n",
       "      <td>WY</td>\n",
       "      <td>4</td>\n",
       "    </tr>\n",
       "    <tr>\n",
       "      <th>1215756</th>\n",
       "      <td>56045</td>\n",
       "      <td>Weston</td>\n",
       "      <td>Wyoming</td>\n",
       "      <td>43.839612</td>\n",
       "      <td>-104.567488</td>\n",
       "      <td>2021-01-16</td>\n",
       "      <td>602</td>\n",
       "      <td>WY</td>\n",
       "      <td>4</td>\n",
       "    </tr>\n",
       "    <tr>\n",
       "      <th>1215757</th>\n",
       "      <td>56045</td>\n",
       "      <td>Weston</td>\n",
       "      <td>Wyoming</td>\n",
       "      <td>43.839612</td>\n",
       "      <td>-104.567488</td>\n",
       "      <td>2021-01-17</td>\n",
       "      <td>602</td>\n",
       "      <td>WY</td>\n",
       "      <td>4</td>\n",
       "    </tr>\n",
       "    <tr>\n",
       "      <th>1215758</th>\n",
       "      <td>56045</td>\n",
       "      <td>Weston</td>\n",
       "      <td>Wyoming</td>\n",
       "      <td>43.839612</td>\n",
       "      <td>-104.567488</td>\n",
       "      <td>2021-01-18</td>\n",
       "      <td>602</td>\n",
       "      <td>WY</td>\n",
       "      <td>4</td>\n",
       "    </tr>\n",
       "    <tr>\n",
       "      <th>1215759</th>\n",
       "      <td>56045</td>\n",
       "      <td>Weston</td>\n",
       "      <td>Wyoming</td>\n",
       "      <td>43.839612</td>\n",
       "      <td>-104.567488</td>\n",
       "      <td>2021-01-19</td>\n",
       "      <td>606</td>\n",
       "      <td>WY</td>\n",
       "      <td>4</td>\n",
       "    </tr>\n",
       "  </tbody>\n",
       "</table>\n",
       "<p>1215760 rows × 9 columns</p>\n",
       "</div>"
      ],
      "text/plain": [
       "          fips   county    state        lat        long        date  cases  \\\n",
       "0         1001  Autauga  Alabama  32.539527  -86.644082  2020-01-22      0   \n",
       "1         1001  Autauga  Alabama  32.539527  -86.644082  2020-01-23      0   \n",
       "2         1001  Autauga  Alabama  32.539527  -86.644082  2020-01-24      0   \n",
       "3         1001  Autauga  Alabama  32.539527  -86.644082  2020-01-25      0   \n",
       "4         1001  Autauga  Alabama  32.539527  -86.644082  2020-01-26      0   \n",
       "...        ...      ...      ...        ...         ...         ...    ...   \n",
       "1215755  56045   Weston  Wyoming  43.839612 -104.567488  2021-01-15    602   \n",
       "1215756  56045   Weston  Wyoming  43.839612 -104.567488  2021-01-16    602   \n",
       "1215757  56045   Weston  Wyoming  43.839612 -104.567488  2021-01-17    602   \n",
       "1215758  56045   Weston  Wyoming  43.839612 -104.567488  2021-01-18    602   \n",
       "1215759  56045   Weston  Wyoming  43.839612 -104.567488  2021-01-19    606   \n",
       "\n",
       "        state_code  deaths  \n",
       "0               AL       0  \n",
       "1               AL       0  \n",
       "2               AL       0  \n",
       "3               AL       0  \n",
       "4               AL       0  \n",
       "...            ...     ...  \n",
       "1215755         WY       4  \n",
       "1215756         WY       4  \n",
       "1215757         WY       4  \n",
       "1215758         WY       4  \n",
       "1215759         WY       4  \n",
       "\n",
       "[1215760 rows x 9 columns]"
      ]
     },
     "execution_count": 16,
     "metadata": {},
     "output_type": "execute_result"
    }
   ],
   "source": [
    "data_1"
   ]
  },
  {
   "cell_type": "code",
   "execution_count": 17,
   "metadata": {},
   "outputs": [
    {
     "data": {
      "text/plain": [
       "fips          0\n",
       "county        0\n",
       "state         0\n",
       "lat           0\n",
       "long          0\n",
       "date          0\n",
       "cases         0\n",
       "state_code    0\n",
       "deaths        0\n",
       "dtype: int64"
      ]
     },
     "execution_count": 17,
     "metadata": {},
     "output_type": "execute_result"
    }
   ],
   "source": [
    "data_1.isna().sum()"
   ]
  },
  {
   "cell_type": "code",
   "execution_count": 18,
   "metadata": {},
   "outputs": [
    {
     "data": {
      "text/plain": [
       "fips          0\n",
       "county        0\n",
       "state         0\n",
       "lat           0\n",
       "long          0\n",
       "date          0\n",
       "cases         0\n",
       "state_code    0\n",
       "deaths        0\n",
       "dtype: int64"
      ]
     },
     "execution_count": 18,
     "metadata": {},
     "output_type": "execute_result"
    }
   ],
   "source": [
    "data_1.isnull().sum()"
   ]
  },
  {
   "cell_type": "code",
   "execution_count": 19,
   "metadata": {},
   "outputs": [
    {
     "data": {
      "text/plain": [
       "RangeIndex(start=0, stop=1215760, step=1)"
      ]
     },
     "execution_count": 19,
     "metadata": {},
     "output_type": "execute_result"
    }
   ],
   "source": [
    "data_1.index"
   ]
  },
  {
   "cell_type": "code",
   "execution_count": 20,
   "metadata": {},
   "outputs": [
    {
     "name": "stdout",
     "output_type": "stream",
     "text": [
      "fips object\n",
      "county object\n",
      "state object\n",
      "lat float64\n",
      "long float64\n",
      "date object\n",
      "cases int32\n",
      "state_code object\n",
      "deaths int32\n"
     ]
    }
   ],
   "source": [
    "col=[]\n",
    "for i in data_1.columns:\n",
    "    print(i, data_1[i].dtype)\n",
    "    if(data_1[i].dtype=='object'):\n",
    "        col.append(i)"
   ]
  },
  {
   "cell_type": "code",
   "execution_count": 21,
   "metadata": {},
   "outputs": [
    {
     "data": {
      "text/html": [
       "<div>\n",
       "<style scoped>\n",
       "    .dataframe tbody tr th:only-of-type {\n",
       "        vertical-align: middle;\n",
       "    }\n",
       "\n",
       "    .dataframe tbody tr th {\n",
       "        vertical-align: top;\n",
       "    }\n",
       "\n",
       "    .dataframe thead th {\n",
       "        text-align: right;\n",
       "    }\n",
       "</style>\n",
       "<table border=\"1\" class=\"dataframe\">\n",
       "  <thead>\n",
       "    <tr style=\"text-align: right;\">\n",
       "      <th></th>\n",
       "      <th>fips</th>\n",
       "      <th>county</th>\n",
       "      <th>state</th>\n",
       "      <th>date</th>\n",
       "      <th>state_code</th>\n",
       "    </tr>\n",
       "  </thead>\n",
       "  <tbody>\n",
       "    <tr>\n",
       "      <th>0</th>\n",
       "      <td>1001</td>\n",
       "      <td>Autauga</td>\n",
       "      <td>Alabama</td>\n",
       "      <td>2020-01-22</td>\n",
       "      <td>AL</td>\n",
       "    </tr>\n",
       "    <tr>\n",
       "      <th>1</th>\n",
       "      <td>1001</td>\n",
       "      <td>Autauga</td>\n",
       "      <td>Alabama</td>\n",
       "      <td>2020-01-23</td>\n",
       "      <td>AL</td>\n",
       "    </tr>\n",
       "    <tr>\n",
       "      <th>2</th>\n",
       "      <td>1001</td>\n",
       "      <td>Autauga</td>\n",
       "      <td>Alabama</td>\n",
       "      <td>2020-01-24</td>\n",
       "      <td>AL</td>\n",
       "    </tr>\n",
       "    <tr>\n",
       "      <th>3</th>\n",
       "      <td>1001</td>\n",
       "      <td>Autauga</td>\n",
       "      <td>Alabama</td>\n",
       "      <td>2020-01-25</td>\n",
       "      <td>AL</td>\n",
       "    </tr>\n",
       "    <tr>\n",
       "      <th>4</th>\n",
       "      <td>1001</td>\n",
       "      <td>Autauga</td>\n",
       "      <td>Alabama</td>\n",
       "      <td>2020-01-26</td>\n",
       "      <td>AL</td>\n",
       "    </tr>\n",
       "    <tr>\n",
       "      <th>...</th>\n",
       "      <td>...</td>\n",
       "      <td>...</td>\n",
       "      <td>...</td>\n",
       "      <td>...</td>\n",
       "      <td>...</td>\n",
       "    </tr>\n",
       "    <tr>\n",
       "      <th>1215755</th>\n",
       "      <td>56045</td>\n",
       "      <td>Weston</td>\n",
       "      <td>Wyoming</td>\n",
       "      <td>2021-01-15</td>\n",
       "      <td>WY</td>\n",
       "    </tr>\n",
       "    <tr>\n",
       "      <th>1215756</th>\n",
       "      <td>56045</td>\n",
       "      <td>Weston</td>\n",
       "      <td>Wyoming</td>\n",
       "      <td>2021-01-16</td>\n",
       "      <td>WY</td>\n",
       "    </tr>\n",
       "    <tr>\n",
       "      <th>1215757</th>\n",
       "      <td>56045</td>\n",
       "      <td>Weston</td>\n",
       "      <td>Wyoming</td>\n",
       "      <td>2021-01-17</td>\n",
       "      <td>WY</td>\n",
       "    </tr>\n",
       "    <tr>\n",
       "      <th>1215758</th>\n",
       "      <td>56045</td>\n",
       "      <td>Weston</td>\n",
       "      <td>Wyoming</td>\n",
       "      <td>2021-01-18</td>\n",
       "      <td>WY</td>\n",
       "    </tr>\n",
       "    <tr>\n",
       "      <th>1215759</th>\n",
       "      <td>56045</td>\n",
       "      <td>Weston</td>\n",
       "      <td>Wyoming</td>\n",
       "      <td>2021-01-19</td>\n",
       "      <td>WY</td>\n",
       "    </tr>\n",
       "  </tbody>\n",
       "</table>\n",
       "<p>1215760 rows × 5 columns</p>\n",
       "</div>"
      ],
      "text/plain": [
       "          fips   county    state        date state_code\n",
       "0         1001  Autauga  Alabama  2020-01-22         AL\n",
       "1         1001  Autauga  Alabama  2020-01-23         AL\n",
       "2         1001  Autauga  Alabama  2020-01-24         AL\n",
       "3         1001  Autauga  Alabama  2020-01-25         AL\n",
       "4         1001  Autauga  Alabama  2020-01-26         AL\n",
       "...        ...      ...      ...         ...        ...\n",
       "1215755  56045   Weston  Wyoming  2021-01-15         WY\n",
       "1215756  56045   Weston  Wyoming  2021-01-16         WY\n",
       "1215757  56045   Weston  Wyoming  2021-01-17         WY\n",
       "1215758  56045   Weston  Wyoming  2021-01-18         WY\n",
       "1215759  56045   Weston  Wyoming  2021-01-19         WY\n",
       "\n",
       "[1215760 rows x 5 columns]"
      ]
     },
     "execution_count": 21,
     "metadata": {},
     "output_type": "execute_result"
    }
   ],
   "source": [
    "data_1[col]"
   ]
  },
  {
   "cell_type": "markdown",
   "metadata": {},
   "source": [
    "### Affichage des morts en fonction des cas"
   ]
  },
  {
   "cell_type": "code",
   "execution_count": 22,
   "metadata": {},
   "outputs": [
    {
     "data": {
      "text/plain": [
       "<matplotlib.collections.PathCollection at 0x7f5817365b50>"
      ]
     },
     "execution_count": 22,
     "metadata": {},
     "output_type": "execute_result"
    },
    {
     "data": {
      "image/png": "[encoded data removed]",
      "text/plain": [
       "<Figure size 432x288 with 1 Axes>"
      ]
     },
     "metadata": {
      "needs_background": "light"
     },
     "output_type": "display_data"
    }
   ],
   "source": [
    "plt.scatter(data_1['cases'],data_1['deaths'])"
   ]
  },
  {
   "cell_type": "markdown",
   "metadata": {},
   "source": [
    "### Correlaton entre quelques variables"
   ]
  },
  {
   "cell_type": "code",
   "execution_count": 23,
   "metadata": {},
   "outputs": [
    {
     "data": {
      "text/html": [
       "<div>\n",
       "<style scoped>\n",
       "    .dataframe tbody tr th:only-of-type {\n",
       "        vertical-align: middle;\n",
       "    }\n",
       "\n",
       "    .dataframe tbody tr th {\n",
       "        vertical-align: top;\n",
       "    }\n",
       "\n",
       "    .dataframe thead th {\n",
       "        text-align: right;\n",
       "    }\n",
       "</style>\n",
       "<table border=\"1\" class=\"dataframe\">\n",
       "  <thead>\n",
       "    <tr style=\"text-align: right;\">\n",
       "      <th></th>\n",
       "      <th>lat</th>\n",
       "      <th>long</th>\n",
       "      <th>cases</th>\n",
       "      <th>deaths</th>\n",
       "    </tr>\n",
       "  </thead>\n",
       "  <tbody>\n",
       "    <tr>\n",
       "      <th>lat</th>\n",
       "      <td>1.000000</td>\n",
       "      <td>-0.721129</td>\n",
       "      <td>-0.000617</td>\n",
       "      <td>0.012629</td>\n",
       "    </tr>\n",
       "    <tr>\n",
       "      <th>long</th>\n",
       "      <td>-0.721129</td>\n",
       "      <td>1.000000</td>\n",
       "      <td>-0.016877</td>\n",
       "      <td>0.027553</td>\n",
       "    </tr>\n",
       "    <tr>\n",
       "      <th>cases</th>\n",
       "      <td>-0.000617</td>\n",
       "      <td>-0.016877</td>\n",
       "      <td>1.000000</td>\n",
       "      <td>0.772769</td>\n",
       "    </tr>\n",
       "    <tr>\n",
       "      <th>deaths</th>\n",
       "      <td>0.012629</td>\n",
       "      <td>0.027553</td>\n",
       "      <td>0.772769</td>\n",
       "      <td>1.000000</td>\n",
       "    </tr>\n",
       "  </tbody>\n",
       "</table>\n",
       "</div>"
      ],
      "text/plain": [
       "             lat      long     cases    deaths\n",
       "lat     1.000000 -0.721129 -0.000617  0.012629\n",
       "long   -0.721129  1.000000 -0.016877  0.027553\n",
       "cases  -0.000617 -0.016877  1.000000  0.772769\n",
       "deaths  0.012629  0.027553  0.772769  1.000000"
      ]
     },
     "execution_count": 23,
     "metadata": {},
     "output_type": "execute_result"
    }
   ],
   "source": [
    "data_1.corr()"
   ]
  },
  {
   "cell_type": "code",
   "execution_count": 24,
   "metadata": {},
   "outputs": [
    {
     "data": {
      "text/plain": [
       "9"
      ]
     },
     "execution_count": 24,
     "metadata": {},
     "output_type": "execute_result"
    }
   ],
   "source": [
    "len(data_1.columns)"
   ]
  },
  {
   "cell_type": "markdown",
   "metadata": {},
   "source": [
    "## Transformation sur les colonnes sélectionnées"
   ]
  },
  {
   "cell_type": "code",
   "execution_count": 25,
   "metadata": {},
   "outputs": [
    {
     "data": {
      "text/html": [
       "<div>\n",
       "<style scoped>\n",
       "    .dataframe tbody tr th:only-of-type {\n",
       "        vertical-align: middle;\n",
       "    }\n",
       "\n",
       "    .dataframe tbody tr th {\n",
       "        vertical-align: top;\n",
       "    }\n",
       "\n",
       "    .dataframe thead th {\n",
       "        text-align: right;\n",
       "    }\n",
       "</style>\n",
       "<table border=\"1\" class=\"dataframe\">\n",
       "  <thead>\n",
       "    <tr style=\"text-align: right;\">\n",
       "      <th></th>\n",
       "      <th>lat</th>\n",
       "      <th>long</th>\n",
       "      <th>cases</th>\n",
       "      <th>deaths</th>\n",
       "    </tr>\n",
       "  </thead>\n",
       "  <tbody>\n",
       "    <tr>\n",
       "      <th>0</th>\n",
       "      <td>32.539527</td>\n",
       "      <td>-86.644082</td>\n",
       "      <td>0</td>\n",
       "      <td>0</td>\n",
       "    </tr>\n",
       "    <tr>\n",
       "      <th>1</th>\n",
       "      <td>32.539527</td>\n",
       "      <td>-86.644082</td>\n",
       "      <td>0</td>\n",
       "      <td>0</td>\n",
       "    </tr>\n",
       "    <tr>\n",
       "      <th>2</th>\n",
       "      <td>32.539527</td>\n",
       "      <td>-86.644082</td>\n",
       "      <td>0</td>\n",
       "      <td>0</td>\n",
       "    </tr>\n",
       "    <tr>\n",
       "      <th>3</th>\n",
       "      <td>32.539527</td>\n",
       "      <td>-86.644082</td>\n",
       "      <td>0</td>\n",
       "      <td>0</td>\n",
       "    </tr>\n",
       "    <tr>\n",
       "      <th>4</th>\n",
       "      <td>32.539527</td>\n",
       "      <td>-86.644082</td>\n",
       "      <td>0</td>\n",
       "      <td>0</td>\n",
       "    </tr>\n",
       "    <tr>\n",
       "      <th>...</th>\n",
       "      <td>...</td>\n",
       "      <td>...</td>\n",
       "      <td>...</td>\n",
       "      <td>...</td>\n",
       "    </tr>\n",
       "    <tr>\n",
       "      <th>1215755</th>\n",
       "      <td>43.839612</td>\n",
       "      <td>-104.567488</td>\n",
       "      <td>602</td>\n",
       "      <td>4</td>\n",
       "    </tr>\n",
       "    <tr>\n",
       "      <th>1215756</th>\n",
       "      <td>43.839612</td>\n",
       "      <td>-104.567488</td>\n",
       "      <td>602</td>\n",
       "      <td>4</td>\n",
       "    </tr>\n",
       "    <tr>\n",
       "      <th>1215757</th>\n",
       "      <td>43.839612</td>\n",
       "      <td>-104.567488</td>\n",
       "      <td>602</td>\n",
       "      <td>4</td>\n",
       "    </tr>\n",
       "    <tr>\n",
       "      <th>1215758</th>\n",
       "      <td>43.839612</td>\n",
       "      <td>-104.567488</td>\n",
       "      <td>602</td>\n",
       "      <td>4</td>\n",
       "    </tr>\n",
       "    <tr>\n",
       "      <th>1215759</th>\n",
       "      <td>43.839612</td>\n",
       "      <td>-104.567488</td>\n",
       "      <td>606</td>\n",
       "      <td>4</td>\n",
       "    </tr>\n",
       "  </tbody>\n",
       "</table>\n",
       "<p>1215760 rows × 4 columns</p>\n",
       "</div>"
      ],
      "text/plain": [
       "               lat        long  cases  deaths\n",
       "0        32.539527  -86.644082      0       0\n",
       "1        32.539527  -86.644082      0       0\n",
       "2        32.539527  -86.644082      0       0\n",
       "3        32.539527  -86.644082      0       0\n",
       "4        32.539527  -86.644082      0       0\n",
       "...            ...         ...    ...     ...\n",
       "1215755  43.839612 -104.567488    602       4\n",
       "1215756  43.839612 -104.567488    602       4\n",
       "1215757  43.839612 -104.567488    602       4\n",
       "1215758  43.839612 -104.567488    602       4\n",
       "1215759  43.839612 -104.567488    606       4\n",
       "\n",
       "[1215760 rows x 4 columns]"
      ]
     },
     "execution_count": 25,
     "metadata": {},
     "output_type": "execute_result"
    }
   ],
   "source": [
    "data_3=data_1.drop(col,axis=1)\n",
    "data_3"
   ]
  },
  {
   "cell_type": "code",
   "execution_count": 26,
   "metadata": {},
   "outputs": [],
   "source": [
    "data_dummies=[]"
   ]
  },
  {
   "cell_type": "code",
   "execution_count": 27,
   "metadata": {},
   "outputs": [],
   "source": [
    "data_2=pd.get_dummies(data_1['state_code'])\n",
    "data_dummies.append(data_2)\n"
   ]
  },
  {
   "cell_type": "markdown",
   "metadata": {},
   "source": [
    "### Transformation des catégories"
   ]
  },
  {
   "cell_type": "code",
   "execution_count": 28,
   "metadata": {},
   "outputs": [],
   "source": [
    "for d in data_dummies:\n",
    "    data_3=pd.concat([data_3,d],axis=1)"
   ]
  },
  {
   "cell_type": "code",
   "execution_count": 29,
   "metadata": {},
   "outputs": [],
   "source": [
    "data_3=pd.concat([data_3,data_1['date']],axis=1)"
   ]
  },
  {
   "cell_type": "code",
   "execution_count": 30,
   "metadata": {},
   "outputs": [
    {
     "data": {
      "text/plain": [
       "Index(['lat', 'long', 'cases', 'deaths', 'AK', 'AL', 'AR', 'AZ', 'CA', 'CO',\n",
       "       'CT', 'DE', 'FL', 'GA', 'HI', 'IA', 'ID', 'IL', 'IN', 'KS', 'KY', 'LA',\n",
       "       'MA', 'MD', 'ME', 'MI', 'MN', 'MO', 'MS', 'MT', 'NA', 'NC', 'ND', 'NE',\n",
       "       'NH', 'NJ', 'NM', 'NV', 'NY', 'OH', 'OK', 'OR', 'PA', 'RI', 'SC', 'SD',\n",
       "       'TN', 'TX', 'UT', 'VA', 'VT', 'WA', 'WI', 'WV', 'WY', 'date'],\n",
       "      dtype='object')"
      ]
     },
     "execution_count": 30,
     "metadata": {},
     "output_type": "execute_result"
    }
   ],
   "source": [
    "data_3.columns"
   ]
  },
  {
   "cell_type": "code",
   "execution_count": 31,
   "metadata": {},
   "outputs": [
    {
     "data": {
      "text/plain": [
       "<bound method DataFrame.info of                lat        long  cases  deaths  AK  AL  AR  AZ  CA  CO  ...  \\\n",
       "0        32.539527  -86.644082      0       0   0   1   0   0   0   0  ...   \n",
       "1        32.539527  -86.644082      0       0   0   1   0   0   0   0  ...   \n",
       "2        32.539527  -86.644082      0       0   0   1   0   0   0   0  ...   \n",
       "3        32.539527  -86.644082      0       0   0   1   0   0   0   0  ...   \n",
       "4        32.539527  -86.644082      0       0   0   1   0   0   0   0  ...   \n",
       "...            ...         ...    ...     ...  ..  ..  ..  ..  ..  ..  ...   \n",
       "1215755  43.839612 -104.567488    602       4   0   0   0   0   0   0  ...   \n",
       "1215756  43.839612 -104.567488    602       4   0   0   0   0   0   0  ...   \n",
       "1215757  43.839612 -104.567488    602       4   0   0   0   0   0   0  ...   \n",
       "1215758  43.839612 -104.567488    602       4   0   0   0   0   0   0  ...   \n",
       "1215759  43.839612 -104.567488    606       4   0   0   0   0   0   0  ...   \n",
       "\n",
       "         TN  TX  UT  VA  VT  WA  WI  WV  WY        date  \n",
       "0         0   0   0   0   0   0   0   0   0  2020-01-22  \n",
       "1         0   0   0   0   0   0   0   0   0  2020-01-23  \n",
       "2         0   0   0   0   0   0   0   0   0  2020-01-24  \n",
       "3         0   0   0   0   0   0   0   0   0  2020-01-25  \n",
       "4         0   0   0   0   0   0   0   0   0  2020-01-26  \n",
       "...      ..  ..  ..  ..  ..  ..  ..  ..  ..         ...  \n",
       "1215755   0   0   0   0   0   0   0   0   1  2021-01-15  \n",
       "1215756   0   0   0   0   0   0   0   0   1  2021-01-16  \n",
       "1215757   0   0   0   0   0   0   0   0   1  2021-01-17  \n",
       "1215758   0   0   0   0   0   0   0   0   1  2021-01-18  \n",
       "1215759   0   0   0   0   0   0   0   0   1  2021-01-19  \n",
       "\n",
       "[1215760 rows x 56 columns]>"
      ]
     },
     "execution_count": 31,
     "metadata": {},
     "output_type": "execute_result"
    }
   ],
   "source": [
    "data_3.info"
   ]
  },
  {
   "cell_type": "code",
   "execution_count": 32,
   "metadata": {},
   "outputs": [],
   "source": [
    "date = data_3"
   ]
  },
  {
   "cell_type": "code",
   "execution_count": 33,
   "metadata": {},
   "outputs": [
    {
     "data": {
      "text/plain": [
       "Index(['lat', 'long', 'cases', 'deaths', 'AK', 'AL', 'AR', 'AZ', 'CA', 'CO',\n",
       "       'CT', 'DE', 'FL', 'GA', 'HI', 'IA', 'ID', 'IL', 'IN', 'KS', 'KY', 'LA',\n",
       "       'MA', 'MD', 'ME', 'MI', 'MN', 'MO', 'MS', 'MT', 'NA', 'NC', 'ND', 'NE',\n",
       "       'NH', 'NJ', 'NM', 'NV', 'NY', 'OH', 'OK', 'OR', 'PA', 'RI', 'SC', 'SD',\n",
       "       'TN', 'TX', 'UT', 'VA', 'VT', 'WA', 'WI', 'WV', 'WY', 'date'],\n",
       "      dtype='object')"
      ]
     },
     "execution_count": 33,
     "metadata": {},
     "output_type": "execute_result"
    }
   ],
   "source": [
    "date.columns"
   ]
  },
  {
   "cell_type": "markdown",
   "metadata": {},
   "source": [
    "### Transformation des dates"
   ]
  },
  {
   "cell_type": "code",
   "execution_count": 34,
   "metadata": {},
   "outputs": [],
   "source": [
    "date['year']= data_3['date'].map(lambda x:datetime.strptime(str(x), '%Y-%m-%d'))"
   ]
  },
  {
   "cell_type": "code",
   "execution_count": 35,
   "metadata": {},
   "outputs": [],
   "source": [
    "date['new_date']= date['year']"
   ]
  },
  {
   "cell_type": "code",
   "execution_count": 36,
   "metadata": {},
   "outputs": [],
   "source": [
    "date['year']=date['year'].map(lambda x: x.year)"
   ]
  },
  {
   "cell_type": "code",
   "execution_count": 37,
   "metadata": {},
   "outputs": [],
   "source": [
    "date['month']=date['new_date'].map(lambda x: x.month)\n",
    "date['day']=date['new_date'].map(lambda x: x.day)"
   ]
  },
  {
   "cell_type": "code",
   "execution_count": 38,
   "metadata": {},
   "outputs": [
    {
     "data": {
      "text/html": [
       "<div>\n",
       "<style scoped>\n",
       "    .dataframe tbody tr th:only-of-type {\n",
       "        vertical-align: middle;\n",
       "    }\n",
       "\n",
       "    .dataframe tbody tr th {\n",
       "        vertical-align: top;\n",
       "    }\n",
       "\n",
       "    .dataframe thead th {\n",
       "        text-align: right;\n",
       "    }\n",
       "</style>\n",
       "<table border=\"1\" class=\"dataframe\">\n",
       "  <thead>\n",
       "    <tr style=\"text-align: right;\">\n",
       "      <th></th>\n",
       "      <th>lat</th>\n",
       "      <th>long</th>\n",
       "      <th>cases</th>\n",
       "      <th>deaths</th>\n",
       "      <th>AK</th>\n",
       "      <th>AL</th>\n",
       "      <th>AR</th>\n",
       "      <th>AZ</th>\n",
       "      <th>CA</th>\n",
       "      <th>CO</th>\n",
       "      <th>...</th>\n",
       "      <th>VT</th>\n",
       "      <th>WA</th>\n",
       "      <th>WI</th>\n",
       "      <th>WV</th>\n",
       "      <th>WY</th>\n",
       "      <th>date</th>\n",
       "      <th>year</th>\n",
       "      <th>new_date</th>\n",
       "      <th>month</th>\n",
       "      <th>day</th>\n",
       "    </tr>\n",
       "  </thead>\n",
       "  <tbody>\n",
       "    <tr>\n",
       "      <th>0</th>\n",
       "      <td>32.539527</td>\n",
       "      <td>-86.644082</td>\n",
       "      <td>0</td>\n",
       "      <td>0</td>\n",
       "      <td>0</td>\n",
       "      <td>1</td>\n",
       "      <td>0</td>\n",
       "      <td>0</td>\n",
       "      <td>0</td>\n",
       "      <td>0</td>\n",
       "      <td>...</td>\n",
       "      <td>0</td>\n",
       "      <td>0</td>\n",
       "      <td>0</td>\n",
       "      <td>0</td>\n",
       "      <td>0</td>\n",
       "      <td>2020-01-22</td>\n",
       "      <td>2020</td>\n",
       "      <td>2020-01-22</td>\n",
       "      <td>1</td>\n",
       "      <td>22</td>\n",
       "    </tr>\n",
       "    <tr>\n",
       "      <th>1</th>\n",
       "      <td>32.539527</td>\n",
       "      <td>-86.644082</td>\n",
       "      <td>0</td>\n",
       "      <td>0</td>\n",
       "      <td>0</td>\n",
       "      <td>1</td>\n",
       "      <td>0</td>\n",
       "      <td>0</td>\n",
       "      <td>0</td>\n",
       "      <td>0</td>\n",
       "      <td>...</td>\n",
       "      <td>0</td>\n",
       "      <td>0</td>\n",
       "      <td>0</td>\n",
       "      <td>0</td>\n",
       "      <td>0</td>\n",
       "      <td>2020-01-23</td>\n",
       "      <td>2020</td>\n",
       "      <td>2020-01-23</td>\n",
       "      <td>1</td>\n",
       "      <td>23</td>\n",
       "    </tr>\n",
       "    <tr>\n",
       "      <th>2</th>\n",
       "      <td>32.539527</td>\n",
       "      <td>-86.644082</td>\n",
       "      <td>0</td>\n",
       "      <td>0</td>\n",
       "      <td>0</td>\n",
       "      <td>1</td>\n",
       "      <td>0</td>\n",
       "      <td>0</td>\n",
       "      <td>0</td>\n",
       "      <td>0</td>\n",
       "      <td>...</td>\n",
       "      <td>0</td>\n",
       "      <td>0</td>\n",
       "      <td>0</td>\n",
       "      <td>0</td>\n",
       "      <td>0</td>\n",
       "      <td>2020-01-24</td>\n",
       "      <td>2020</td>\n",
       "      <td>2020-01-24</td>\n",
       "      <td>1</td>\n",
       "      <td>24</td>\n",
       "    </tr>\n",
       "    <tr>\n",
       "      <th>3</th>\n",
       "      <td>32.539527</td>\n",
       "      <td>-86.644082</td>\n",
       "      <td>0</td>\n",
       "      <td>0</td>\n",
       "      <td>0</td>\n",
       "      <td>1</td>\n",
       "      <td>0</td>\n",
       "      <td>0</td>\n",
       "      <td>0</td>\n",
       "      <td>0</td>\n",
       "      <td>...</td>\n",
       "      <td>0</td>\n",
       "      <td>0</td>\n",
       "      <td>0</td>\n",
       "      <td>0</td>\n",
       "      <td>0</td>\n",
       "      <td>2020-01-25</td>\n",
       "      <td>2020</td>\n",
       "      <td>2020-01-25</td>\n",
       "      <td>1</td>\n",
       "      <td>25</td>\n",
       "    </tr>\n",
       "    <tr>\n",
       "      <th>4</th>\n",
       "      <td>32.539527</td>\n",
       "      <td>-86.644082</td>\n",
       "      <td>0</td>\n",
       "      <td>0</td>\n",
       "      <td>0</td>\n",
       "      <td>1</td>\n",
       "      <td>0</td>\n",
       "      <td>0</td>\n",
       "      <td>0</td>\n",
       "      <td>0</td>\n",
       "      <td>...</td>\n",
       "      <td>0</td>\n",
       "      <td>0</td>\n",
       "      <td>0</td>\n",
       "      <td>0</td>\n",
       "      <td>0</td>\n",
       "      <td>2020-01-26</td>\n",
       "      <td>2020</td>\n",
       "      <td>2020-01-26</td>\n",
       "      <td>1</td>\n",
       "      <td>26</td>\n",
       "    </tr>\n",
       "    <tr>\n",
       "      <th>...</th>\n",
       "      <td>...</td>\n",
       "      <td>...</td>\n",
       "      <td>...</td>\n",
       "      <td>...</td>\n",
       "      <td>...</td>\n",
       "      <td>...</td>\n",
       "      <td>...</td>\n",
       "      <td>...</td>\n",
       "      <td>...</td>\n",
       "      <td>...</td>\n",
       "      <td>...</td>\n",
       "      <td>...</td>\n",
       "      <td>...</td>\n",
       "      <td>...</td>\n",
       "      <td>...</td>\n",
       "      <td>...</td>\n",
       "      <td>...</td>\n",
       "      <td>...</td>\n",
       "      <td>...</td>\n",
       "      <td>...</td>\n",
       "      <td>...</td>\n",
       "    </tr>\n",
       "    <tr>\n",
       "      <th>1215755</th>\n",
       "      <td>43.839612</td>\n",
       "      <td>-104.567488</td>\n",
       "      <td>602</td>\n",
       "      <td>4</td>\n",
       "      <td>0</td>\n",
       "      <td>0</td>\n",
       "      <td>0</td>\n",
       "      <td>0</td>\n",
       "      <td>0</td>\n",
       "      <td>0</td>\n",
       "      <td>...</td>\n",
       "      <td>0</td>\n",
       "      <td>0</td>\n",
       "      <td>0</td>\n",
       "      <td>0</td>\n",
       "      <td>1</td>\n",
       "      <td>2021-01-15</td>\n",
       "      <td>2021</td>\n",
       "      <td>2021-01-15</td>\n",
       "      <td>1</td>\n",
       "      <td>15</td>\n",
       "    </tr>\n",
       "    <tr>\n",
       "      <th>1215756</th>\n",
       "      <td>43.839612</td>\n",
       "      <td>-104.567488</td>\n",
       "      <td>602</td>\n",
       "      <td>4</td>\n",
       "      <td>0</td>\n",
       "      <td>0</td>\n",
       "      <td>0</td>\n",
       "      <td>0</td>\n",
       "      <td>0</td>\n",
       "      <td>0</td>\n",
       "      <td>...</td>\n",
       "      <td>0</td>\n",
       "      <td>0</td>\n",
       "      <td>0</td>\n",
       "      <td>0</td>\n",
       "      <td>1</td>\n",
       "      <td>2021-01-16</td>\n",
       "      <td>2021</td>\n",
       "      <td>2021-01-16</td>\n",
       "      <td>1</td>\n",
       "      <td>16</td>\n",
       "    </tr>\n",
       "    <tr>\n",
       "      <th>1215757</th>\n",
       "      <td>43.839612</td>\n",
       "      <td>-104.567488</td>\n",
       "      <td>602</td>\n",
       "      <td>4</td>\n",
       "      <td>0</td>\n",
       "      <td>0</td>\n",
       "      <td>0</td>\n",
       "      <td>0</td>\n",
       "      <td>0</td>\n",
       "      <td>0</td>\n",
       "      <td>...</td>\n",
       "      <td>0</td>\n",
       "      <td>0</td>\n",
       "      <td>0</td>\n",
       "      <td>0</td>\n",
       "      <td>1</td>\n",
       "      <td>2021-01-17</td>\n",
       "      <td>2021</td>\n",
       "      <td>2021-01-17</td>\n",
       "      <td>1</td>\n",
       "      <td>17</td>\n",
       "    </tr>\n",
       "    <tr>\n",
       "      <th>1215758</th>\n",
       "      <td>43.839612</td>\n",
       "      <td>-104.567488</td>\n",
       "      <td>602</td>\n",
       "      <td>4</td>\n",
       "      <td>0</td>\n",
       "      <td>0</td>\n",
       "      <td>0</td>\n",
       "      <td>0</td>\n",
       "      <td>0</td>\n",
       "      <td>0</td>\n",
       "      <td>...</td>\n",
       "      <td>0</td>\n",
       "      <td>0</td>\n",
       "      <td>0</td>\n",
       "      <td>0</td>\n",
       "      <td>1</td>\n",
       "      <td>2021-01-18</td>\n",
       "      <td>2021</td>\n",
       "      <td>2021-01-18</td>\n",
       "      <td>1</td>\n",
       "      <td>18</td>\n",
       "    </tr>\n",
       "    <tr>\n",
       "      <th>1215759</th>\n",
       "      <td>43.839612</td>\n",
       "      <td>-104.567488</td>\n",
       "      <td>606</td>\n",
       "      <td>4</td>\n",
       "      <td>0</td>\n",
       "      <td>0</td>\n",
       "      <td>0</td>\n",
       "      <td>0</td>\n",
       "      <td>0</td>\n",
       "      <td>0</td>\n",
       "      <td>...</td>\n",
       "      <td>0</td>\n",
       "      <td>0</td>\n",
       "      <td>0</td>\n",
       "      <td>0</td>\n",
       "      <td>1</td>\n",
       "      <td>2021-01-19</td>\n",
       "      <td>2021</td>\n",
       "      <td>2021-01-19</td>\n",
       "      <td>1</td>\n",
       "      <td>19</td>\n",
       "    </tr>\n",
       "  </tbody>\n",
       "</table>\n",
       "<p>1215760 rows × 60 columns</p>\n",
       "</div>"
      ],
      "text/plain": [
       "               lat        long  cases  deaths  AK  AL  AR  AZ  CA  CO  ...  \\\n",
       "0        32.539527  -86.644082      0       0   0   1   0   0   0   0  ...   \n",
       "1        32.539527  -86.644082      0       0   0   1   0   0   0   0  ...   \n",
       "2        32.539527  -86.644082      0       0   0   1   0   0   0   0  ...   \n",
       "3        32.539527  -86.644082      0       0   0   1   0   0   0   0  ...   \n",
       "4        32.539527  -86.644082      0       0   0   1   0   0   0   0  ...   \n",
       "...            ...         ...    ...     ...  ..  ..  ..  ..  ..  ..  ...   \n",
       "1215755  43.839612 -104.567488    602       4   0   0   0   0   0   0  ...   \n",
       "1215756  43.839612 -104.567488    602       4   0   0   0   0   0   0  ...   \n",
       "1215757  43.839612 -104.567488    602       4   0   0   0   0   0   0  ...   \n",
       "1215758  43.839612 -104.567488    602       4   0   0   0   0   0   0  ...   \n",
       "1215759  43.839612 -104.567488    606       4   0   0   0   0   0   0  ...   \n",
       "\n",
       "         VT  WA  WI  WV  WY        date  year   new_date  month  day  \n",
       "0         0   0   0   0   0  2020-01-22  2020 2020-01-22      1   22  \n",
       "1         0   0   0   0   0  2020-01-23  2020 2020-01-23      1   23  \n",
       "2         0   0   0   0   0  2020-01-24  2020 2020-01-24      1   24  \n",
       "3         0   0   0   0   0  2020-01-25  2020 2020-01-25      1   25  \n",
       "4         0   0   0   0   0  2020-01-26  2020 2020-01-26      1   26  \n",
       "...      ..  ..  ..  ..  ..         ...   ...        ...    ...  ...  \n",
       "1215755   0   0   0   0   1  2021-01-15  2021 2021-01-15      1   15  \n",
       "1215756   0   0   0   0   1  2021-01-16  2021 2021-01-16      1   16  \n",
       "1215757   0   0   0   0   1  2021-01-17  2021 2021-01-17      1   17  \n",
       "1215758   0   0   0   0   1  2021-01-18  2021 2021-01-18      1   18  \n",
       "1215759   0   0   0   0   1  2021-01-19  2021 2021-01-19      1   19  \n",
       "\n",
       "[1215760 rows x 60 columns]"
      ]
     },
     "execution_count": 38,
     "metadata": {},
     "output_type": "execute_result"
    }
   ],
   "source": [
    "date"
   ]
  },
  {
   "cell_type": "code",
   "execution_count": 39,
   "metadata": {},
   "outputs": [],
   "source": [
    "date=date.drop(['date','new_date'],axis=1)"
   ]
  },
  {
   "cell_type": "code",
   "execution_count": 40,
   "metadata": {},
   "outputs": [
    {
     "data": {
      "text/plain": [
       "Index(['lat', 'long', 'cases', 'deaths', 'AK', 'AL', 'AR', 'AZ', 'CA', 'CO',\n",
       "       'CT', 'DE', 'FL', 'GA', 'HI', 'IA', 'ID', 'IL', 'IN', 'KS', 'KY', 'LA',\n",
       "       'MA', 'MD', 'ME', 'MI', 'MN', 'MO', 'MS', 'MT', 'NA', 'NC', 'ND', 'NE',\n",
       "       'NH', 'NJ', 'NM', 'NV', 'NY', 'OH', 'OK', 'OR', 'PA', 'RI', 'SC', 'SD',\n",
       "       'TN', 'TX', 'UT', 'VA', 'VT', 'WA', 'WI', 'WV', 'WY', 'year', 'month',\n",
       "       'day'],\n",
       "      dtype='object')"
      ]
     },
     "execution_count": 40,
     "metadata": {},
     "output_type": "execute_result"
    }
   ],
   "source": [
    "date.columns"
   ]
  },
  {
   "cell_type": "markdown",
   "metadata": {},
   "source": [
    "## Séparation en données d'entraînement et de test"
   ]
  },
  {
   "cell_type": "code",
   "execution_count": 41,
   "metadata": {},
   "outputs": [],
   "source": [
    "X_train, X_test, y_train, y_test = train_test_split(date[['lat', 'long', 'cases', 'AK', 'AL', 'AR', 'AZ', 'CA', 'CO',\n",
    "       'CT', 'DE', 'FL', 'GA', 'HI', 'IA', 'ID', 'IL', 'IN', 'KS', 'KY', 'LA',\n",
    "       'MA', 'MD', 'ME', 'MI', 'MN', 'MO', 'MS', 'MT', 'NA', 'NC', 'ND', 'NE',\n",
    "       'NH', 'NJ', 'NM', 'NV', 'NY', 'OH', 'OK', 'OR', 'PA', 'RI', 'SC', 'SD',\n",
    "       'TN', 'TX', 'UT', 'VA', 'VT', 'WA', 'WI', 'WV', 'WY', 'year', 'month',\n",
    "       'day']], date['deaths'], test_size=0.33, random_state=51)"
   ]
  },
  {
   "cell_type": "markdown",
   "metadata": {},
   "source": [
    "## Normalisation des données"
   ]
  },
  {
   "cell_type": "code",
   "execution_count": 42,
   "metadata": {},
   "outputs": [],
   "source": [
    "from sklearn.preprocessing import StandardScaler\n",
    "scaler = StandardScaler()\n",
    "X_train_Std=scaler.fit_transform(X_train)"
   ]
  },
  {
   "cell_type": "markdown",
   "metadata": {},
   "source": [
    "## Entrainement du modèle RandomForestRegressor"
   ]
  },
  {
   "cell_type": "code",
   "execution_count": 43,
   "metadata": {},
   "outputs": [
    {
     "data": {
      "text/plain": [
       "RandomForestRegressor(random_state=0)"
      ]
     },
     "execution_count": 43,
     "metadata": {},
     "output_type": "execute_result"
    }
   ],
   "source": [
    "regr = RandomForestRegressor(random_state=0)\n",
    "regr.fit(X_train_Std, y_train)"
   ]
  },
  {
   "cell_type": "markdown",
   "metadata": {},
   "source": [
    "## Evaluation du modèle sur les données d'entraînement"
   ]
  },
  {
   "cell_type": "code",
   "execution_count": 44,
   "metadata": {},
   "outputs": [
    {
     "data": {
      "text/plain": [
       "array([1.84, 0.  , 0.1 , ..., 4.4 , 0.  , 0.  ])"
      ]
     },
     "execution_count": 44,
     "metadata": {},
     "output_type": "execute_result"
    }
   ],
   "source": [
    "regr.predict(scaler.fit_transform(X_test))"
   ]
  },
  {
   "cell_type": "code",
   "execution_count": 45,
   "metadata": {},
   "outputs": [
    {
     "data": {
      "text/plain": [
       "0.9900793987016415"
      ]
     },
     "execution_count": 45,
     "metadata": {},
     "output_type": "execute_result"
    }
   ],
   "source": [
    "regr.score(scaler.fit_transform(X_test),y_test)"
   ]
  },
  {
   "cell_type": "markdown",
   "metadata": {},
   "source": [
    "## Affichage des morts en fonctions des cas\n"
   ]
  },
  {
   "cell_type": "markdown",
   "metadata": {},
   "source": [
    "### En Orange on a le résultat du modèle et en bleu le résultat réel"
   ]
  },
  {
   "cell_type": "code",
   "execution_count": 49,
   "metadata": {},
   "outputs": [
    {
     "data": {
      "text/plain": [
       "<matplotlib.collections.PathCollection at 0x7f5800356a00>"
      ]
     },
     "execution_count": 49,
     "metadata": {},
     "output_type": "execute_result"
    },
    {
     "data": {
      "image/png": "[encoded data removed]",
      "text/plain": [
       "<Figure size 432x288 with 1 Axes>"
      ]
     },
     "metadata": {
      "needs_background": "light"
     },
     "output_type": "display_data"
    }
   ],
   "source": [
    "plt.scatter(X_test['cases'],y_test)\n",
    "plt.scatter(X_test['cases'],regr.predict(X_test))"
   ]
  },
  {
   "cell_type": "markdown",
   "metadata": {},
   "source": [
    "## Enregistrement du modèle et sauvegarde"
   ]
  },
  {
   "cell_type": "code",
   "execution_count": 56,
   "metadata": {},
   "outputs": [],
   "source": [
    "import pickle\n",
    "Project_path=\"home/student/LSP_Project/\"\n",
    "model_path = Project_path + \"Models/regr.pickle\"\n",
    "vectorizer_path = Project_path + \"Models/scaler.pickle\"\n",
    "model, vectorizer_model = regr,scaler\n",
    "pickle.dump(model, open('model_path.pickle', 'wb'))\n",
    "pickle.dump(vectorizer_model, open('vectorizer_path.pickle', \"wb\"))\n"
   ]
  },
  {
   "cell_type": "code",
   "execution_count": 57,
   "metadata": {},
   "outputs": [],
   "source": [
    "model = pickle.load(open('model_path.pickle', 'rb'))"
   ]
  },
  {
   "cell_type": "code",
   "execution_count": null,
   "metadata": {},
   "outputs": [],
   "source": []
  }
 ],
 "metadata": {
  "kernelspec": {
   "display_name": "Python 3",
   "language": "python",
   "name": "python3"
  },
  "language_info": {
   "codemirror_mode": {
    "name": "ipython",
    "version": 3
   },
   "file_extension": ".py",
   "mimetype": "text/x-python",
   "name": "python",
   "nbconvert_exporter": "python",
   "pygments_lexer": "ipython3",
   "version": "3.7.3"
  }
 },
 "nbformat": 4,
 "nbformat_minor": 5
}
